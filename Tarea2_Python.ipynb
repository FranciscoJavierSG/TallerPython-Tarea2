{
  "cells": [
    {
      "cell_type": "markdown",
      "metadata": {},
      "source": [
        "# Tarea 2 - Taller de Python para Ciencias de Datos\n",
        "\n",
        "Nombre de la base de datos: Listado de autos usados marca Ford.  \n",
        "Descripción: Este set de datos contiene información sobre el precio, la transmisión, el millaje (distancia en millas), tipo de combustible que utiliza el vehículo, el impuesto de circulación, millas por galón (consumo de bencina en galones, por milla recorrida) y el tamaño del motor de los autos guardados en la base de datos.  \n",
        "Datos a trabajar: `tax`, `transmission`. `mpg`."
      ]
    },
    {
      "cell_type": "markdown",
      "metadata": {
        "id": "rD24zx67Tr5l"
      },
      "source": [
        "Importar librerías"
      ]
    },
    {
      "cell_type": "code",
      "execution_count": 64,
      "metadata": {
        "id": "NEwPOmERMZ1l"
      },
      "outputs": [],
      "source": [
        "import pandas as pd\n",
        "import numpy as np"
      ]
    },
    {
      "cell_type": "markdown",
      "metadata": {
        "id": "e43seBYKNGpg"
      },
      "source": [
        "Importar base de datos a usar"
      ]
    },
    {
      "cell_type": "code",
      "execution_count": 65,
      "metadata": {
        "id": "kEzWb9ajNKjA"
      },
      "outputs": [],
      "source": [
        "df = pd.read_csv('datos_vehiculos.csv')\n",
        "df.to_csv('datos_vehiculos.csv', index=False)"
      ]
    },
    {
      "cell_type": "markdown",
      "metadata": {
        "id": "MoB6TiDaVOaY"
      },
      "source": [
        "### Mostrar encabezados"
      ]
    },
    {
      "cell_type": "code",
      "execution_count": 66,
      "metadata": {
        "colab": {
          "base_uri": "https://localhost:8080/",
          "height": 363
        },
        "id": "Dr9s1c6-VESK",
        "outputId": "068731c8-042e-4e06-be95-9639ffec78e4"
      },
      "outputs": [
        {
          "data": {
            "text/html": [
              "<div>\n",
              "<style scoped>\n",
              "    .dataframe tbody tr th:only-of-type {\n",
              "        vertical-align: middle;\n",
              "    }\n",
              "\n",
              "    .dataframe tbody tr th {\n",
              "        vertical-align: top;\n",
              "    }\n",
              "\n",
              "    .dataframe thead th {\n",
              "        text-align: right;\n",
              "    }\n",
              "</style>\n",
              "<table border=\"1\" class=\"dataframe\">\n",
              "  <thead>\n",
              "    <tr style=\"text-align: right;\">\n",
              "      <th></th>\n",
              "      <th>model</th>\n",
              "      <th>year</th>\n",
              "      <th>price</th>\n",
              "      <th>transmission</th>\n",
              "      <th>mileage</th>\n",
              "      <th>fuelType</th>\n",
              "      <th>tax</th>\n",
              "      <th>mpg</th>\n",
              "      <th>engineSize</th>\n",
              "    </tr>\n",
              "  </thead>\n",
              "  <tbody>\n",
              "    <tr>\n",
              "      <th>0</th>\n",
              "      <td>Fiesta</td>\n",
              "      <td>2017</td>\n",
              "      <td>12000</td>\n",
              "      <td>Automatic</td>\n",
              "      <td>15944</td>\n",
              "      <td>Petrol</td>\n",
              "      <td>?</td>\n",
              "      <td>57.7</td>\n",
              "      <td>1.0</td>\n",
              "    </tr>\n",
              "    <tr>\n",
              "      <th>1</th>\n",
              "      <td>Focus</td>\n",
              "      <td>2018</td>\n",
              "      <td>14000</td>\n",
              "      <td>Manual</td>\n",
              "      <td>9083</td>\n",
              "      <td>Petrol</td>\n",
              "      <td>150</td>\n",
              "      <td>57.7</td>\n",
              "      <td>1.0</td>\n",
              "    </tr>\n",
              "    <tr>\n",
              "      <th>2</th>\n",
              "      <td>Focus</td>\n",
              "      <td>2017</td>\n",
              "      <td>13000</td>\n",
              "      <td>Manual</td>\n",
              "      <td>12456</td>\n",
              "      <td>Petrol</td>\n",
              "      <td>150</td>\n",
              "      <td>57.7</td>\n",
              "      <td>1.0</td>\n",
              "    </tr>\n",
              "    <tr>\n",
              "      <th>3</th>\n",
              "      <td>Fiesta</td>\n",
              "      <td>2019</td>\n",
              "      <td>17500</td>\n",
              "      <td>Manual</td>\n",
              "      <td>10460</td>\n",
              "      <td>Petrol</td>\n",
              "      <td>145</td>\n",
              "      <td>40.3</td>\n",
              "      <td>1.5</td>\n",
              "    </tr>\n",
              "    <tr>\n",
              "      <th>4</th>\n",
              "      <td>Fiesta</td>\n",
              "      <td>2019</td>\n",
              "      <td>16500</td>\n",
              "      <td>Automatic</td>\n",
              "      <td>1482</td>\n",
              "      <td>Petrol</td>\n",
              "      <td>145</td>\n",
              "      <td>48.7</td>\n",
              "      <td>1.0</td>\n",
              "    </tr>\n",
              "    <tr>\n",
              "      <th>5</th>\n",
              "      <td>Fiesta</td>\n",
              "      <td>2015</td>\n",
              "      <td>10500</td>\n",
              "      <td>Manual</td>\n",
              "      <td>35432</td>\n",
              "      <td>Petrol</td>\n",
              "      <td>?</td>\n",
              "      <td>47.9</td>\n",
              "      <td>1.6</td>\n",
              "    </tr>\n",
              "    <tr>\n",
              "      <th>6</th>\n",
              "      <td>Puma</td>\n",
              "      <td>2019</td>\n",
              "      <td>22500</td>\n",
              "      <td>Manual</td>\n",
              "      <td>2029</td>\n",
              "      <td>Petrol</td>\n",
              "      <td>145</td>\n",
              "      <td>50.4</td>\n",
              "      <td>1.0</td>\n",
              "    </tr>\n",
              "    <tr>\n",
              "      <th>7</th>\n",
              "      <td>Fiesta</td>\n",
              "      <td>2017</td>\n",
              "      <td>9000</td>\n",
              "      <td>Manual</td>\n",
              "      <td>13054</td>\n",
              "      <td>Petrol</td>\n",
              "      <td>?</td>\n",
              "      <td>54.3</td>\n",
              "      <td>1.2</td>\n",
              "    </tr>\n",
              "    <tr>\n",
              "      <th>8</th>\n",
              "      <td>Kuga</td>\n",
              "      <td>2019</td>\n",
              "      <td>25500</td>\n",
              "      <td>Automatic</td>\n",
              "      <td>6894</td>\n",
              "      <td>Diesel</td>\n",
              "      <td>145</td>\n",
              "      <td>42.2</td>\n",
              "      <td>2.0</td>\n",
              "    </tr>\n",
              "    <tr>\n",
              "      <th>9</th>\n",
              "      <td>Focus</td>\n",
              "      <td>2018</td>\n",
              "      <td>10000</td>\n",
              "      <td>Manual</td>\n",
              "      <td>48141</td>\n",
              "      <td>Petrol</td>\n",
              "      <td>?</td>\n",
              "      <td>61.4</td>\n",
              "      <td>1.0</td>\n",
              "    </tr>\n",
              "  </tbody>\n",
              "</table>\n",
              "</div>"
            ],
            "text/plain": [
              "     model  year  price transmission  mileage fuelType  tax   mpg  engineSize\n",
              "0   Fiesta  2017  12000    Automatic    15944   Petrol    ?  57.7         1.0\n",
              "1    Focus  2018  14000       Manual     9083   Petrol  150  57.7         1.0\n",
              "2    Focus  2017  13000       Manual    12456   Petrol  150  57.7         1.0\n",
              "3   Fiesta  2019  17500       Manual    10460   Petrol  145  40.3         1.5\n",
              "4   Fiesta  2019  16500    Automatic     1482   Petrol  145  48.7         1.0\n",
              "5   Fiesta  2015  10500       Manual    35432   Petrol    ?  47.9         1.6\n",
              "6     Puma  2019  22500       Manual     2029   Petrol  145  50.4         1.0\n",
              "7   Fiesta  2017   9000       Manual    13054   Petrol    ?  54.3         1.2\n",
              "8     Kuga  2019  25500    Automatic     6894   Diesel  145  42.2         2.0\n",
              "9    Focus  2018  10000       Manual    48141   Petrol    ?  61.4         1.0"
            ]
          },
          "execution_count": 66,
          "metadata": {},
          "output_type": "execute_result"
        }
      ],
      "source": [
        "df.head(10)"
      ]
    },
    {
      "cell_type": "markdown",
      "metadata": {},
      "source": [
        "### Análisis básico de los datos de entrada"
      ]
    },
    {
      "cell_type": "markdown",
      "metadata": {
        "id": "M6cGJ_ZIV1mi"
      },
      "source": [
        "Análisis estadístico de los datos"
      ]
    },
    {
      "cell_type": "code",
      "execution_count": 67,
      "metadata": {
        "colab": {
          "base_uri": "https://localhost:8080/",
          "height": 300
        },
        "id": "GB2fJ5GzV1G3",
        "outputId": "7574dac5-6ef3-4bd9-9588-c32db888926c"
      },
      "outputs": [
        {
          "data": {
            "text/html": [
              "<div>\n",
              "<style scoped>\n",
              "    .dataframe tbody tr th:only-of-type {\n",
              "        vertical-align: middle;\n",
              "    }\n",
              "\n",
              "    .dataframe tbody tr th {\n",
              "        vertical-align: top;\n",
              "    }\n",
              "\n",
              "    .dataframe thead th {\n",
              "        text-align: right;\n",
              "    }\n",
              "</style>\n",
              "<table border=\"1\" class=\"dataframe\">\n",
              "  <thead>\n",
              "    <tr style=\"text-align: right;\">\n",
              "      <th></th>\n",
              "      <th>year</th>\n",
              "      <th>price</th>\n",
              "      <th>mileage</th>\n",
              "      <th>mpg</th>\n",
              "      <th>engineSize</th>\n",
              "    </tr>\n",
              "  </thead>\n",
              "  <tbody>\n",
              "    <tr>\n",
              "      <th>count</th>\n",
              "      <td>17966.000000</td>\n",
              "      <td>17966.000000</td>\n",
              "      <td>17966.000000</td>\n",
              "      <td>17966.000000</td>\n",
              "      <td>17966.000000</td>\n",
              "    </tr>\n",
              "    <tr>\n",
              "      <th>mean</th>\n",
              "      <td>2016.866470</td>\n",
              "      <td>12279.534844</td>\n",
              "      <td>23362.608761</td>\n",
              "      <td>57.906980</td>\n",
              "      <td>1.350807</td>\n",
              "    </tr>\n",
              "    <tr>\n",
              "      <th>std</th>\n",
              "      <td>2.050336</td>\n",
              "      <td>4741.343657</td>\n",
              "      <td>19472.054349</td>\n",
              "      <td>10.125696</td>\n",
              "      <td>0.432367</td>\n",
              "    </tr>\n",
              "    <tr>\n",
              "      <th>min</th>\n",
              "      <td>1996.000000</td>\n",
              "      <td>495.000000</td>\n",
              "      <td>1.000000</td>\n",
              "      <td>20.800000</td>\n",
              "      <td>0.000000</td>\n",
              "    </tr>\n",
              "    <tr>\n",
              "      <th>25%</th>\n",
              "      <td>2016.000000</td>\n",
              "      <td>8999.000000</td>\n",
              "      <td>9987.000000</td>\n",
              "      <td>52.300000</td>\n",
              "      <td>1.000000</td>\n",
              "    </tr>\n",
              "    <tr>\n",
              "      <th>50%</th>\n",
              "      <td>2017.000000</td>\n",
              "      <td>11291.000000</td>\n",
              "      <td>18242.500000</td>\n",
              "      <td>58.900000</td>\n",
              "      <td>1.200000</td>\n",
              "    </tr>\n",
              "    <tr>\n",
              "      <th>75%</th>\n",
              "      <td>2018.000000</td>\n",
              "      <td>15299.000000</td>\n",
              "      <td>31060.000000</td>\n",
              "      <td>65.700000</td>\n",
              "      <td>1.500000</td>\n",
              "    </tr>\n",
              "    <tr>\n",
              "      <th>max</th>\n",
              "      <td>2060.000000</td>\n",
              "      <td>54995.000000</td>\n",
              "      <td>177644.000000</td>\n",
              "      <td>201.800000</td>\n",
              "      <td>5.000000</td>\n",
              "    </tr>\n",
              "  </tbody>\n",
              "</table>\n",
              "</div>"
            ],
            "text/plain": [
              "               year         price        mileage           mpg    engineSize\n",
              "count  17966.000000  17966.000000   17966.000000  17966.000000  17966.000000\n",
              "mean    2016.866470  12279.534844   23362.608761     57.906980      1.350807\n",
              "std        2.050336   4741.343657   19472.054349     10.125696      0.432367\n",
              "min     1996.000000    495.000000       1.000000     20.800000      0.000000\n",
              "25%     2016.000000   8999.000000    9987.000000     52.300000      1.000000\n",
              "50%     2017.000000  11291.000000   18242.500000     58.900000      1.200000\n",
              "75%     2018.000000  15299.000000   31060.000000     65.700000      1.500000\n",
              "max     2060.000000  54995.000000  177644.000000    201.800000      5.000000"
            ]
          },
          "execution_count": 67,
          "metadata": {},
          "output_type": "execute_result"
        }
      ],
      "source": [
        "df.describe()"
      ]
    },
    {
      "cell_type": "markdown",
      "metadata": {
        "id": "snDwU-cxWT4m"
      },
      "source": [
        "Información de los datos"
      ]
    },
    {
      "cell_type": "code",
      "execution_count": 68,
      "metadata": {
        "colab": {
          "base_uri": "https://localhost:8080/"
        },
        "id": "THer9cX0WASR",
        "outputId": "34091828-4f36-43d5-d636-e8954f47cf70"
      },
      "outputs": [
        {
          "name": "stdout",
          "output_type": "stream",
          "text": [
            "<class 'pandas.core.frame.DataFrame'>\n",
            "RangeIndex: 17966 entries, 0 to 17965\n",
            "Data columns (total 9 columns):\n",
            " #   Column        Non-Null Count  Dtype  \n",
            "---  ------        --------------  -----  \n",
            " 0   model         17966 non-null  object \n",
            " 1   year          17966 non-null  int64  \n",
            " 2   price         17966 non-null  int64  \n",
            " 3   transmission  17966 non-null  object \n",
            " 4   mileage       17966 non-null  int64  \n",
            " 5   fuelType      17966 non-null  object \n",
            " 6   tax           17966 non-null  object \n",
            " 7   mpg           17966 non-null  float64\n",
            " 8   engineSize    17966 non-null  float64\n",
            "dtypes: float64(2), int64(3), object(4)\n",
            "memory usage: 1.2+ MB\n"
          ]
        }
      ],
      "source": [
        "df.info()"
      ]
    },
    {
      "cell_type": "markdown",
      "metadata": {
        "id": "B8W2cPeuAjEk"
      },
      "source": [
        "### Identificación y manipulación de valores faltantes\n"
      ]
    },
    {
      "cell_type": "markdown",
      "metadata": {
        "id": "JW0MXxHyAp0m"
      },
      "source": [
        "Convertir ? en NaN"
      ]
    },
    {
      "cell_type": "code",
      "execution_count": 69,
      "metadata": {
        "colab": {
          "base_uri": "https://localhost:8080/",
          "height": 363
        },
        "id": "9WfC9uE6AtCf",
        "outputId": "413a4a1f-b8b7-498a-de4d-999c19a0501a"
      },
      "outputs": [
        {
          "data": {
            "text/html": [
              "<div>\n",
              "<style scoped>\n",
              "    .dataframe tbody tr th:only-of-type {\n",
              "        vertical-align: middle;\n",
              "    }\n",
              "\n",
              "    .dataframe tbody tr th {\n",
              "        vertical-align: top;\n",
              "    }\n",
              "\n",
              "    .dataframe thead th {\n",
              "        text-align: right;\n",
              "    }\n",
              "</style>\n",
              "<table border=\"1\" class=\"dataframe\">\n",
              "  <thead>\n",
              "    <tr style=\"text-align: right;\">\n",
              "      <th></th>\n",
              "      <th>model</th>\n",
              "      <th>year</th>\n",
              "      <th>price</th>\n",
              "      <th>transmission</th>\n",
              "      <th>mileage</th>\n",
              "      <th>fuelType</th>\n",
              "      <th>tax</th>\n",
              "      <th>mpg</th>\n",
              "      <th>engineSize</th>\n",
              "    </tr>\n",
              "  </thead>\n",
              "  <tbody>\n",
              "    <tr>\n",
              "      <th>0</th>\n",
              "      <td>Fiesta</td>\n",
              "      <td>2017</td>\n",
              "      <td>12000</td>\n",
              "      <td>Automatic</td>\n",
              "      <td>15944</td>\n",
              "      <td>Petrol</td>\n",
              "      <td>NaN</td>\n",
              "      <td>57.7</td>\n",
              "      <td>1.0</td>\n",
              "    </tr>\n",
              "    <tr>\n",
              "      <th>1</th>\n",
              "      <td>Focus</td>\n",
              "      <td>2018</td>\n",
              "      <td>14000</td>\n",
              "      <td>Manual</td>\n",
              "      <td>9083</td>\n",
              "      <td>Petrol</td>\n",
              "      <td>150</td>\n",
              "      <td>57.7</td>\n",
              "      <td>1.0</td>\n",
              "    </tr>\n",
              "    <tr>\n",
              "      <th>2</th>\n",
              "      <td>Focus</td>\n",
              "      <td>2017</td>\n",
              "      <td>13000</td>\n",
              "      <td>Manual</td>\n",
              "      <td>12456</td>\n",
              "      <td>Petrol</td>\n",
              "      <td>150</td>\n",
              "      <td>57.7</td>\n",
              "      <td>1.0</td>\n",
              "    </tr>\n",
              "    <tr>\n",
              "      <th>3</th>\n",
              "      <td>Fiesta</td>\n",
              "      <td>2019</td>\n",
              "      <td>17500</td>\n",
              "      <td>Manual</td>\n",
              "      <td>10460</td>\n",
              "      <td>Petrol</td>\n",
              "      <td>145</td>\n",
              "      <td>40.3</td>\n",
              "      <td>1.5</td>\n",
              "    </tr>\n",
              "    <tr>\n",
              "      <th>4</th>\n",
              "      <td>Fiesta</td>\n",
              "      <td>2019</td>\n",
              "      <td>16500</td>\n",
              "      <td>Automatic</td>\n",
              "      <td>1482</td>\n",
              "      <td>Petrol</td>\n",
              "      <td>145</td>\n",
              "      <td>48.7</td>\n",
              "      <td>1.0</td>\n",
              "    </tr>\n",
              "    <tr>\n",
              "      <th>5</th>\n",
              "      <td>Fiesta</td>\n",
              "      <td>2015</td>\n",
              "      <td>10500</td>\n",
              "      <td>Manual</td>\n",
              "      <td>35432</td>\n",
              "      <td>Petrol</td>\n",
              "      <td>NaN</td>\n",
              "      <td>47.9</td>\n",
              "      <td>1.6</td>\n",
              "    </tr>\n",
              "    <tr>\n",
              "      <th>6</th>\n",
              "      <td>Puma</td>\n",
              "      <td>2019</td>\n",
              "      <td>22500</td>\n",
              "      <td>Manual</td>\n",
              "      <td>2029</td>\n",
              "      <td>Petrol</td>\n",
              "      <td>145</td>\n",
              "      <td>50.4</td>\n",
              "      <td>1.0</td>\n",
              "    </tr>\n",
              "    <tr>\n",
              "      <th>7</th>\n",
              "      <td>Fiesta</td>\n",
              "      <td>2017</td>\n",
              "      <td>9000</td>\n",
              "      <td>Manual</td>\n",
              "      <td>13054</td>\n",
              "      <td>Petrol</td>\n",
              "      <td>NaN</td>\n",
              "      <td>54.3</td>\n",
              "      <td>1.2</td>\n",
              "    </tr>\n",
              "    <tr>\n",
              "      <th>8</th>\n",
              "      <td>Kuga</td>\n",
              "      <td>2019</td>\n",
              "      <td>25500</td>\n",
              "      <td>Automatic</td>\n",
              "      <td>6894</td>\n",
              "      <td>Diesel</td>\n",
              "      <td>145</td>\n",
              "      <td>42.2</td>\n",
              "      <td>2.0</td>\n",
              "    </tr>\n",
              "    <tr>\n",
              "      <th>9</th>\n",
              "      <td>Focus</td>\n",
              "      <td>2018</td>\n",
              "      <td>10000</td>\n",
              "      <td>Manual</td>\n",
              "      <td>48141</td>\n",
              "      <td>Petrol</td>\n",
              "      <td>NaN</td>\n",
              "      <td>61.4</td>\n",
              "      <td>1.0</td>\n",
              "    </tr>\n",
              "  </tbody>\n",
              "</table>\n",
              "</div>"
            ],
            "text/plain": [
              "     model  year  price transmission  mileage fuelType  tax   mpg  engineSize\n",
              "0   Fiesta  2017  12000    Automatic    15944   Petrol  NaN  57.7         1.0\n",
              "1    Focus  2018  14000       Manual     9083   Petrol  150  57.7         1.0\n",
              "2    Focus  2017  13000       Manual    12456   Petrol  150  57.7         1.0\n",
              "3   Fiesta  2019  17500       Manual    10460   Petrol  145  40.3         1.5\n",
              "4   Fiesta  2019  16500    Automatic     1482   Petrol  145  48.7         1.0\n",
              "5   Fiesta  2015  10500       Manual    35432   Petrol  NaN  47.9         1.6\n",
              "6     Puma  2019  22500       Manual     2029   Petrol  145  50.4         1.0\n",
              "7   Fiesta  2017   9000       Manual    13054   Petrol  NaN  54.3         1.2\n",
              "8     Kuga  2019  25500    Automatic     6894   Diesel  145  42.2         2.0\n",
              "9    Focus  2018  10000       Manual    48141   Petrol  NaN  61.4         1.0"
            ]
          },
          "execution_count": 69,
          "metadata": {},
          "output_type": "execute_result"
        }
      ],
      "source": [
        "# Reemplazar \"?\" a NaN\n",
        "df.replace(\"?\", np.nan, inplace = True)\n",
        "df.head(10)"
      ]
    },
    {
      "cell_type": "markdown",
      "metadata": {
        "id": "0OOryW-qD1tP"
      },
      "source": [
        "Cantidad de valores faltantes en cada columna"
      ]
    },
    {
      "cell_type": "code",
      "execution_count": 70,
      "metadata": {
        "colab": {
          "base_uri": "https://localhost:8080/"
        },
        "id": "u7WjbIC9D9A0",
        "outputId": "caa716ae-2892-4011-9faf-ccfe2ae9def0"
      },
      "outputs": [
        {
          "data": {
            "text/plain": [
              "model            0\n",
              "year             0\n",
              "price            0\n",
              "transmission     0\n",
              "mileage          0\n",
              "fuelType         0\n",
              "tax             54\n",
              "mpg              0\n",
              "engineSize       0\n",
              "dtype: int64"
            ]
          },
          "execution_count": 70,
          "metadata": {},
          "output_type": "execute_result"
        }
      ],
      "source": [
        "df.isnull().sum()"
      ]
    },
    {
      "cell_type": "markdown",
      "metadata": {
        "id": "F7Fyz_0GNYJa"
      },
      "source": [
        "Manipulacion de valores faltantes: Reemplazando por su promedio.  \n",
        "Como en 'tax' hay 54 datos faltantes, estos serán reemplazados por el promedio de los demás datos de esa columna."
      ]
    },
    {
      "cell_type": "markdown",
      "metadata": {
        "id": "VuwbldnoPpo1"
      },
      "source": [
        "Calcular el valor promedio de la columna `tax`."
      ]
    },
    {
      "cell_type": "code",
      "execution_count": 71,
      "metadata": {
        "colab": {
          "base_uri": "https://localhost:8080/"
        },
        "id": "432sid0fPvOG",
        "outputId": "42caa52c-82e2-4802-adfd-2cb17cf18415"
      },
      "outputs": [
        {
          "name": "stdout",
          "output_type": "stream",
          "text": [
            "El promedio de la columna tax es: 113.41793211255025\n"
          ]
        }
      ],
      "source": [
        "tax_prom = df[\"tax\"].astype(\"float\").mean(axis=0)\n",
        "print(\"El promedio de la columna tax es:\", tax_prom)"
      ]
    },
    {
      "cell_type": "markdown",
      "metadata": {
        "id": "LFE0eyKGQdHH"
      },
      "source": [
        "Reemplazar \"NaN\" con el valor promedio en la columna `tax`."
      ]
    },
    {
      "cell_type": "code",
      "execution_count": 72,
      "metadata": {
        "colab": {
          "base_uri": "https://localhost:8080/",
          "height": 363
        },
        "id": "yZfZXayWQggs",
        "outputId": "6075e288-a6f1-4582-a32a-eafaf87078f8"
      },
      "outputs": [
        {
          "data": {
            "text/html": [
              "<div>\n",
              "<style scoped>\n",
              "    .dataframe tbody tr th:only-of-type {\n",
              "        vertical-align: middle;\n",
              "    }\n",
              "\n",
              "    .dataframe tbody tr th {\n",
              "        vertical-align: top;\n",
              "    }\n",
              "\n",
              "    .dataframe thead th {\n",
              "        text-align: right;\n",
              "    }\n",
              "</style>\n",
              "<table border=\"1\" class=\"dataframe\">\n",
              "  <thead>\n",
              "    <tr style=\"text-align: right;\">\n",
              "      <th></th>\n",
              "      <th>model</th>\n",
              "      <th>year</th>\n",
              "      <th>price</th>\n",
              "      <th>transmission</th>\n",
              "      <th>mileage</th>\n",
              "      <th>fuelType</th>\n",
              "      <th>tax</th>\n",
              "      <th>mpg</th>\n",
              "      <th>engineSize</th>\n",
              "    </tr>\n",
              "  </thead>\n",
              "  <tbody>\n",
              "    <tr>\n",
              "      <th>0</th>\n",
              "      <td>Fiesta</td>\n",
              "      <td>2017</td>\n",
              "      <td>12000</td>\n",
              "      <td>Automatic</td>\n",
              "      <td>15944</td>\n",
              "      <td>Petrol</td>\n",
              "      <td>113.417932</td>\n",
              "      <td>57.7</td>\n",
              "      <td>1.0</td>\n",
              "    </tr>\n",
              "    <tr>\n",
              "      <th>1</th>\n",
              "      <td>Focus</td>\n",
              "      <td>2018</td>\n",
              "      <td>14000</td>\n",
              "      <td>Manual</td>\n",
              "      <td>9083</td>\n",
              "      <td>Petrol</td>\n",
              "      <td>150</td>\n",
              "      <td>57.7</td>\n",
              "      <td>1.0</td>\n",
              "    </tr>\n",
              "    <tr>\n",
              "      <th>2</th>\n",
              "      <td>Focus</td>\n",
              "      <td>2017</td>\n",
              "      <td>13000</td>\n",
              "      <td>Manual</td>\n",
              "      <td>12456</td>\n",
              "      <td>Petrol</td>\n",
              "      <td>150</td>\n",
              "      <td>57.7</td>\n",
              "      <td>1.0</td>\n",
              "    </tr>\n",
              "    <tr>\n",
              "      <th>3</th>\n",
              "      <td>Fiesta</td>\n",
              "      <td>2019</td>\n",
              "      <td>17500</td>\n",
              "      <td>Manual</td>\n",
              "      <td>10460</td>\n",
              "      <td>Petrol</td>\n",
              "      <td>145</td>\n",
              "      <td>40.3</td>\n",
              "      <td>1.5</td>\n",
              "    </tr>\n",
              "    <tr>\n",
              "      <th>4</th>\n",
              "      <td>Fiesta</td>\n",
              "      <td>2019</td>\n",
              "      <td>16500</td>\n",
              "      <td>Automatic</td>\n",
              "      <td>1482</td>\n",
              "      <td>Petrol</td>\n",
              "      <td>145</td>\n",
              "      <td>48.7</td>\n",
              "      <td>1.0</td>\n",
              "    </tr>\n",
              "    <tr>\n",
              "      <th>5</th>\n",
              "      <td>Fiesta</td>\n",
              "      <td>2015</td>\n",
              "      <td>10500</td>\n",
              "      <td>Manual</td>\n",
              "      <td>35432</td>\n",
              "      <td>Petrol</td>\n",
              "      <td>113.417932</td>\n",
              "      <td>47.9</td>\n",
              "      <td>1.6</td>\n",
              "    </tr>\n",
              "    <tr>\n",
              "      <th>6</th>\n",
              "      <td>Puma</td>\n",
              "      <td>2019</td>\n",
              "      <td>22500</td>\n",
              "      <td>Manual</td>\n",
              "      <td>2029</td>\n",
              "      <td>Petrol</td>\n",
              "      <td>145</td>\n",
              "      <td>50.4</td>\n",
              "      <td>1.0</td>\n",
              "    </tr>\n",
              "    <tr>\n",
              "      <th>7</th>\n",
              "      <td>Fiesta</td>\n",
              "      <td>2017</td>\n",
              "      <td>9000</td>\n",
              "      <td>Manual</td>\n",
              "      <td>13054</td>\n",
              "      <td>Petrol</td>\n",
              "      <td>113.417932</td>\n",
              "      <td>54.3</td>\n",
              "      <td>1.2</td>\n",
              "    </tr>\n",
              "    <tr>\n",
              "      <th>8</th>\n",
              "      <td>Kuga</td>\n",
              "      <td>2019</td>\n",
              "      <td>25500</td>\n",
              "      <td>Automatic</td>\n",
              "      <td>6894</td>\n",
              "      <td>Diesel</td>\n",
              "      <td>145</td>\n",
              "      <td>42.2</td>\n",
              "      <td>2.0</td>\n",
              "    </tr>\n",
              "    <tr>\n",
              "      <th>9</th>\n",
              "      <td>Focus</td>\n",
              "      <td>2018</td>\n",
              "      <td>10000</td>\n",
              "      <td>Manual</td>\n",
              "      <td>48141</td>\n",
              "      <td>Petrol</td>\n",
              "      <td>113.417932</td>\n",
              "      <td>61.4</td>\n",
              "      <td>1.0</td>\n",
              "    </tr>\n",
              "  </tbody>\n",
              "</table>\n",
              "</div>"
            ],
            "text/plain": [
              "     model  year  price transmission  mileage fuelType         tax   mpg  \\\n",
              "0   Fiesta  2017  12000    Automatic    15944   Petrol  113.417932  57.7   \n",
              "1    Focus  2018  14000       Manual     9083   Petrol         150  57.7   \n",
              "2    Focus  2017  13000       Manual    12456   Petrol         150  57.7   \n",
              "3   Fiesta  2019  17500       Manual    10460   Petrol         145  40.3   \n",
              "4   Fiesta  2019  16500    Automatic     1482   Petrol         145  48.7   \n",
              "5   Fiesta  2015  10500       Manual    35432   Petrol  113.417932  47.9   \n",
              "6     Puma  2019  22500       Manual     2029   Petrol         145  50.4   \n",
              "7   Fiesta  2017   9000       Manual    13054   Petrol  113.417932  54.3   \n",
              "8     Kuga  2019  25500    Automatic     6894   Diesel         145  42.2   \n",
              "9    Focus  2018  10000       Manual    48141   Petrol  113.417932  61.4   \n",
              "\n",
              "   engineSize  \n",
              "0         1.0  \n",
              "1         1.0  \n",
              "2         1.0  \n",
              "3         1.5  \n",
              "4         1.0  \n",
              "5         1.6  \n",
              "6         1.0  \n",
              "7         1.2  \n",
              "8         2.0  \n",
              "9         1.0  "
            ]
          },
          "execution_count": 72,
          "metadata": {},
          "output_type": "execute_result"
        }
      ],
      "source": [
        "df[\"tax\"].replace(np.nan, tax_prom, inplace=True)\n",
        "df.head(10)"
      ]
    },
    {
      "cell_type": "markdown",
      "metadata": {
        "id": "9UR_kZ5NSe4C"
      },
      "source": [
        "Corregir el formato de los datos."
      ]
    },
    {
      "cell_type": "code",
      "execution_count": 73,
      "metadata": {
        "colab": {
          "base_uri": "https://localhost:8080/"
        },
        "id": "se7bk_a9SkfC",
        "outputId": "c7566af6-5e9b-4afc-c76c-184fa3ad9e9d"
      },
      "outputs": [
        {
          "data": {
            "text/plain": [
              "model            object\n",
              "year              int64\n",
              "price             int64\n",
              "transmission     object\n",
              "mileage           int64\n",
              "fuelType         object\n",
              "tax              object\n",
              "mpg             float64\n",
              "engineSize      float64\n",
              "dtype: object"
            ]
          },
          "execution_count": 73,
          "metadata": {},
          "output_type": "execute_result"
        }
      ],
      "source": [
        "df.dtypes"
      ]
    },
    {
      "cell_type": "markdown",
      "metadata": {
        "id": "11FR8TkuSziF"
      },
      "source": [
        "Como la columna `tax` se encuentra en formato `object` y este formato no es apto para trabajar los datos, hay que cambiarlo.  \n",
        "En este caso, se le da el formato `int` o `float`, pues se trata de una variable numérica."
      ]
    },
    {
      "cell_type": "code",
      "execution_count": 74,
      "metadata": {
        "colab": {
          "base_uri": "https://localhost:8080/"
        },
        "id": "wcvBgAKLTkoD",
        "outputId": "461268ca-5197-4a00-e1c5-b001f2cf589a"
      },
      "outputs": [
        {
          "data": {
            "text/plain": [
              "model            object\n",
              "year              int64\n",
              "price             int64\n",
              "transmission     object\n",
              "mileage           int64\n",
              "fuelType         object\n",
              "tax             float64\n",
              "mpg             float64\n",
              "engineSize      float64\n",
              "dtype: object"
            ]
          },
          "execution_count": 74,
          "metadata": {},
          "output_type": "execute_result"
        }
      ],
      "source": [
        "df[[\"tax\"]] = df[[\"tax\"]].astype(\"float\")\n",
        "df.dtypes"
      ]
    },
    {
      "cell_type": "markdown",
      "metadata": {
        "id": "TsYLhHJEULFN"
      },
      "source": [
        "### Estandarizar datos de entrada"
      ]
    },
    {
      "cell_type": "markdown",
      "metadata": {
        "id": "YBzKrx0pVYn6"
      },
      "source": [
        "Transformar **mpg** a **km/L**:\n",
        "\n",
        "En el conjunto de datos el consumo de combustible de la columna `mpg` están dados en la unidad de millas por galón o **mpg**. Si se está desarrollando una aplicación en un país que trabaja el consumo de combustible con el estándar de kilómetros por litros **km/L**, estos valores se deben cambiar.\n",
        "\n",
        "Por este motivo se necesita aplicar una **transformación de datos** para convertir de **mpg** a **km/L**.\n",
        "\n",
        "La fórmula de unidad de conversión es:\n",
        "\n",
        "1 mpg(US) = 0.425144 km/L"
      ]
    },
    {
      "cell_type": "code",
      "execution_count": 75,
      "metadata": {
        "colab": {
          "base_uri": "https://localhost:8080/",
          "height": 269
        },
        "id": "VOhjwVqrVmmS",
        "outputId": "f5a14247-3386-4966-c2a6-15bde5b1ec4d"
      },
      "outputs": [
        {
          "data": {
            "text/html": [
              "<div>\n",
              "<style scoped>\n",
              "    .dataframe tbody tr th:only-of-type {\n",
              "        vertical-align: middle;\n",
              "    }\n",
              "\n",
              "    .dataframe tbody tr th {\n",
              "        vertical-align: top;\n",
              "    }\n",
              "\n",
              "    .dataframe thead th {\n",
              "        text-align: right;\n",
              "    }\n",
              "</style>\n",
              "<table border=\"1\" class=\"dataframe\">\n",
              "  <thead>\n",
              "    <tr style=\"text-align: right;\">\n",
              "      <th></th>\n",
              "      <th>model</th>\n",
              "      <th>year</th>\n",
              "      <th>price</th>\n",
              "      <th>transmission</th>\n",
              "      <th>mileage</th>\n",
              "      <th>fuelType</th>\n",
              "      <th>tax</th>\n",
              "      <th>mpg</th>\n",
              "      <th>engineSize</th>\n",
              "    </tr>\n",
              "  </thead>\n",
              "  <tbody>\n",
              "    <tr>\n",
              "      <th>0</th>\n",
              "      <td>Fiesta</td>\n",
              "      <td>2017</td>\n",
              "      <td>12000</td>\n",
              "      <td>Automatic</td>\n",
              "      <td>15944</td>\n",
              "      <td>Petrol</td>\n",
              "      <td>113.417932</td>\n",
              "      <td>57.7</td>\n",
              "      <td>1.0</td>\n",
              "    </tr>\n",
              "    <tr>\n",
              "      <th>1</th>\n",
              "      <td>Focus</td>\n",
              "      <td>2018</td>\n",
              "      <td>14000</td>\n",
              "      <td>Manual</td>\n",
              "      <td>9083</td>\n",
              "      <td>Petrol</td>\n",
              "      <td>150.000000</td>\n",
              "      <td>57.7</td>\n",
              "      <td>1.0</td>\n",
              "    </tr>\n",
              "    <tr>\n",
              "      <th>2</th>\n",
              "      <td>Focus</td>\n",
              "      <td>2017</td>\n",
              "      <td>13000</td>\n",
              "      <td>Manual</td>\n",
              "      <td>12456</td>\n",
              "      <td>Petrol</td>\n",
              "      <td>150.000000</td>\n",
              "      <td>57.7</td>\n",
              "      <td>1.0</td>\n",
              "    </tr>\n",
              "    <tr>\n",
              "      <th>3</th>\n",
              "      <td>Fiesta</td>\n",
              "      <td>2019</td>\n",
              "      <td>17500</td>\n",
              "      <td>Manual</td>\n",
              "      <td>10460</td>\n",
              "      <td>Petrol</td>\n",
              "      <td>145.000000</td>\n",
              "      <td>40.3</td>\n",
              "      <td>1.5</td>\n",
              "    </tr>\n",
              "    <tr>\n",
              "      <th>4</th>\n",
              "      <td>Fiesta</td>\n",
              "      <td>2019</td>\n",
              "      <td>16500</td>\n",
              "      <td>Automatic</td>\n",
              "      <td>1482</td>\n",
              "      <td>Petrol</td>\n",
              "      <td>145.000000</td>\n",
              "      <td>48.7</td>\n",
              "      <td>1.0</td>\n",
              "    </tr>\n",
              "    <tr>\n",
              "      <th>5</th>\n",
              "      <td>Fiesta</td>\n",
              "      <td>2015</td>\n",
              "      <td>10500</td>\n",
              "      <td>Manual</td>\n",
              "      <td>35432</td>\n",
              "      <td>Petrol</td>\n",
              "      <td>113.417932</td>\n",
              "      <td>47.9</td>\n",
              "      <td>1.6</td>\n",
              "    </tr>\n",
              "    <tr>\n",
              "      <th>6</th>\n",
              "      <td>Puma</td>\n",
              "      <td>2019</td>\n",
              "      <td>22500</td>\n",
              "      <td>Manual</td>\n",
              "      <td>2029</td>\n",
              "      <td>Petrol</td>\n",
              "      <td>145.000000</td>\n",
              "      <td>50.4</td>\n",
              "      <td>1.0</td>\n",
              "    </tr>\n",
              "  </tbody>\n",
              "</table>\n",
              "</div>"
            ],
            "text/plain": [
              "     model  year  price transmission  mileage fuelType         tax   mpg  \\\n",
              "0   Fiesta  2017  12000    Automatic    15944   Petrol  113.417932  57.7   \n",
              "1    Focus  2018  14000       Manual     9083   Petrol  150.000000  57.7   \n",
              "2    Focus  2017  13000       Manual    12456   Petrol  150.000000  57.7   \n",
              "3   Fiesta  2019  17500       Manual    10460   Petrol  145.000000  40.3   \n",
              "4   Fiesta  2019  16500    Automatic     1482   Petrol  145.000000  48.7   \n",
              "5   Fiesta  2015  10500       Manual    35432   Petrol  113.417932  47.9   \n",
              "6     Puma  2019  22500       Manual     2029   Petrol  145.000000  50.4   \n",
              "\n",
              "   engineSize  \n",
              "0         1.0  \n",
              "1         1.0  \n",
              "2         1.0  \n",
              "3         1.5  \n",
              "4         1.0  \n",
              "5         1.6  \n",
              "6         1.0  "
            ]
          },
          "execution_count": 75,
          "metadata": {},
          "output_type": "execute_result"
        }
      ],
      "source": [
        "df.head(7)"
      ]
    },
    {
      "cell_type": "code",
      "execution_count": 76,
      "metadata": {
        "colab": {
          "base_uri": "https://localhost:8080/",
          "height": 269
        },
        "id": "D7EUCUPvV0M1",
        "outputId": "4ba08bbf-3506-4f2b-e5a4-3be059ab7d6a"
      },
      "outputs": [
        {
          "data": {
            "text/html": [
              "<div>\n",
              "<style scoped>\n",
              "    .dataframe tbody tr th:only-of-type {\n",
              "        vertical-align: middle;\n",
              "    }\n",
              "\n",
              "    .dataframe tbody tr th {\n",
              "        vertical-align: top;\n",
              "    }\n",
              "\n",
              "    .dataframe thead th {\n",
              "        text-align: right;\n",
              "    }\n",
              "</style>\n",
              "<table border=\"1\" class=\"dataframe\">\n",
              "  <thead>\n",
              "    <tr style=\"text-align: right;\">\n",
              "      <th></th>\n",
              "      <th>model</th>\n",
              "      <th>year</th>\n",
              "      <th>price</th>\n",
              "      <th>transmission</th>\n",
              "      <th>mileage</th>\n",
              "      <th>fuelType</th>\n",
              "      <th>tax</th>\n",
              "      <th>mpg</th>\n",
              "      <th>engineSize</th>\n",
              "      <th>km/L</th>\n",
              "      <th>km</th>\n",
              "    </tr>\n",
              "  </thead>\n",
              "  <tbody>\n",
              "    <tr>\n",
              "      <th>0</th>\n",
              "      <td>Fiesta</td>\n",
              "      <td>2017</td>\n",
              "      <td>12000</td>\n",
              "      <td>Automatic</td>\n",
              "      <td>15944</td>\n",
              "      <td>Petrol</td>\n",
              "      <td>113.417932</td>\n",
              "      <td>57.7</td>\n",
              "      <td>1.0</td>\n",
              "      <td>24.530809</td>\n",
              "      <td>25659.31696</td>\n",
              "    </tr>\n",
              "    <tr>\n",
              "      <th>1</th>\n",
              "      <td>Focus</td>\n",
              "      <td>2018</td>\n",
              "      <td>14000</td>\n",
              "      <td>Manual</td>\n",
              "      <td>9083</td>\n",
              "      <td>Petrol</td>\n",
              "      <td>150.000000</td>\n",
              "      <td>57.7</td>\n",
              "      <td>1.0</td>\n",
              "      <td>24.530809</td>\n",
              "      <td>14617.63522</td>\n",
              "    </tr>\n",
              "    <tr>\n",
              "      <th>2</th>\n",
              "      <td>Focus</td>\n",
              "      <td>2017</td>\n",
              "      <td>13000</td>\n",
              "      <td>Manual</td>\n",
              "      <td>12456</td>\n",
              "      <td>Petrol</td>\n",
              "      <td>150.000000</td>\n",
              "      <td>57.7</td>\n",
              "      <td>1.0</td>\n",
              "      <td>24.530809</td>\n",
              "      <td>20045.93904</td>\n",
              "    </tr>\n",
              "    <tr>\n",
              "      <th>3</th>\n",
              "      <td>Fiesta</td>\n",
              "      <td>2019</td>\n",
              "      <td>17500</td>\n",
              "      <td>Manual</td>\n",
              "      <td>10460</td>\n",
              "      <td>Petrol</td>\n",
              "      <td>145.000000</td>\n",
              "      <td>40.3</td>\n",
              "      <td>1.5</td>\n",
              "      <td>17.133303</td>\n",
              "      <td>16833.69640</td>\n",
              "    </tr>\n",
              "    <tr>\n",
              "      <th>4</th>\n",
              "      <td>Fiesta</td>\n",
              "      <td>2019</td>\n",
              "      <td>16500</td>\n",
              "      <td>Automatic</td>\n",
              "      <td>1482</td>\n",
              "      <td>Petrol</td>\n",
              "      <td>145.000000</td>\n",
              "      <td>48.7</td>\n",
              "      <td>1.0</td>\n",
              "      <td>20.704513</td>\n",
              "      <td>2385.04188</td>\n",
              "    </tr>\n",
              "    <tr>\n",
              "      <th>5</th>\n",
              "      <td>Fiesta</td>\n",
              "      <td>2015</td>\n",
              "      <td>10500</td>\n",
              "      <td>Manual</td>\n",
              "      <td>35432</td>\n",
              "      <td>Petrol</td>\n",
              "      <td>113.417932</td>\n",
              "      <td>47.9</td>\n",
              "      <td>1.6</td>\n",
              "      <td>20.364398</td>\n",
              "      <td>57022.13488</td>\n",
              "    </tr>\n",
              "    <tr>\n",
              "      <th>6</th>\n",
              "      <td>Puma</td>\n",
              "      <td>2019</td>\n",
              "      <td>22500</td>\n",
              "      <td>Manual</td>\n",
              "      <td>2029</td>\n",
              "      <td>Petrol</td>\n",
              "      <td>145.000000</td>\n",
              "      <td>50.4</td>\n",
              "      <td>1.0</td>\n",
              "      <td>21.427258</td>\n",
              "      <td>3265.35086</td>\n",
              "    </tr>\n",
              "  </tbody>\n",
              "</table>\n",
              "</div>"
            ],
            "text/plain": [
              "     model  year  price transmission  mileage fuelType         tax   mpg  \\\n",
              "0   Fiesta  2017  12000    Automatic    15944   Petrol  113.417932  57.7   \n",
              "1    Focus  2018  14000       Manual     9083   Petrol  150.000000  57.7   \n",
              "2    Focus  2017  13000       Manual    12456   Petrol  150.000000  57.7   \n",
              "3   Fiesta  2019  17500       Manual    10460   Petrol  145.000000  40.3   \n",
              "4   Fiesta  2019  16500    Automatic     1482   Petrol  145.000000  48.7   \n",
              "5   Fiesta  2015  10500       Manual    35432   Petrol  113.417932  47.9   \n",
              "6     Puma  2019  22500       Manual     2029   Petrol  145.000000  50.4   \n",
              "\n",
              "   engineSize       km/L           km  \n",
              "0         1.0  24.530809  25659.31696  \n",
              "1         1.0  24.530809  14617.63522  \n",
              "2         1.0  24.530809  20045.93904  \n",
              "3         1.5  17.133303  16833.69640  \n",
              "4         1.0  20.704513   2385.04188  \n",
              "5         1.6  20.364398  57022.13488  \n",
              "6         1.0  21.427258   3265.35086  "
            ]
          },
          "execution_count": 76,
          "metadata": {},
          "output_type": "execute_result"
        }
      ],
      "source": [
        "df['km/L'] = df[\"mpg\"]*0.425144\n",
        "df['km'] = df[\"mileage\"]*1.60934\n",
        "\n",
        "df.head(7)"
      ]
    },
    {
      "cell_type": "markdown",
      "metadata": {
        "id": "tK5Z7KiDXDvZ"
      },
      "source": [
        "### Normalizar datos de entrada"
      ]
    },
    {
      "cell_type": "markdown",
      "metadata": {
        "id": "vzoT-0jfX1SP"
      },
      "source": [
        "**Objetivo**: Normalizar las variables de la columna engineSize tal que sus rangos de valores estén entre 0 y 1.\n",
        "\n",
        "**Estrategia**: Reemplazar el valor original por (valor original)/(valor máximo)."
      ]
    },
    {
      "cell_type": "code",
      "execution_count": 77,
      "metadata": {
        "colab": {
          "base_uri": "https://localhost:8080/",
          "height": 269
        },
        "id": "uXaMPjj6XGo1",
        "outputId": "3093776e-b607-47d5-9e75-d3aefa326c23"
      },
      "outputs": [
        {
          "data": {
            "text/html": [
              "<div>\n",
              "<style scoped>\n",
              "    .dataframe tbody tr th:only-of-type {\n",
              "        vertical-align: middle;\n",
              "    }\n",
              "\n",
              "    .dataframe tbody tr th {\n",
              "        vertical-align: top;\n",
              "    }\n",
              "\n",
              "    .dataframe thead th {\n",
              "        text-align: right;\n",
              "    }\n",
              "</style>\n",
              "<table border=\"1\" class=\"dataframe\">\n",
              "  <thead>\n",
              "    <tr style=\"text-align: right;\">\n",
              "      <th></th>\n",
              "      <th>model</th>\n",
              "      <th>year</th>\n",
              "      <th>price</th>\n",
              "      <th>transmission</th>\n",
              "      <th>mileage</th>\n",
              "      <th>fuelType</th>\n",
              "      <th>tax</th>\n",
              "      <th>mpg</th>\n",
              "      <th>engineSize</th>\n",
              "      <th>km/L</th>\n",
              "      <th>km</th>\n",
              "      <th>km/LNorm</th>\n",
              "      <th>kmNorm</th>\n",
              "    </tr>\n",
              "  </thead>\n",
              "  <tbody>\n",
              "    <tr>\n",
              "      <th>0</th>\n",
              "      <td>Fiesta</td>\n",
              "      <td>2017</td>\n",
              "      <td>12000</td>\n",
              "      <td>Automatic</td>\n",
              "      <td>15944</td>\n",
              "      <td>Petrol</td>\n",
              "      <td>113.417932</td>\n",
              "      <td>57.7</td>\n",
              "      <td>1.0</td>\n",
              "      <td>24.530809</td>\n",
              "      <td>25659.31696</td>\n",
              "      <td>0.285927</td>\n",
              "      <td>0.089753</td>\n",
              "    </tr>\n",
              "    <tr>\n",
              "      <th>1</th>\n",
              "      <td>Focus</td>\n",
              "      <td>2018</td>\n",
              "      <td>14000</td>\n",
              "      <td>Manual</td>\n",
              "      <td>9083</td>\n",
              "      <td>Petrol</td>\n",
              "      <td>150.000000</td>\n",
              "      <td>57.7</td>\n",
              "      <td>1.0</td>\n",
              "      <td>24.530809</td>\n",
              "      <td>14617.63522</td>\n",
              "      <td>0.285927</td>\n",
              "      <td>0.051130</td>\n",
              "    </tr>\n",
              "    <tr>\n",
              "      <th>2</th>\n",
              "      <td>Focus</td>\n",
              "      <td>2017</td>\n",
              "      <td>13000</td>\n",
              "      <td>Manual</td>\n",
              "      <td>12456</td>\n",
              "      <td>Petrol</td>\n",
              "      <td>150.000000</td>\n",
              "      <td>57.7</td>\n",
              "      <td>1.0</td>\n",
              "      <td>24.530809</td>\n",
              "      <td>20045.93904</td>\n",
              "      <td>0.285927</td>\n",
              "      <td>0.070118</td>\n",
              "    </tr>\n",
              "    <tr>\n",
              "      <th>3</th>\n",
              "      <td>Fiesta</td>\n",
              "      <td>2019</td>\n",
              "      <td>17500</td>\n",
              "      <td>Manual</td>\n",
              "      <td>10460</td>\n",
              "      <td>Petrol</td>\n",
              "      <td>145.000000</td>\n",
              "      <td>40.3</td>\n",
              "      <td>1.5</td>\n",
              "      <td>17.133303</td>\n",
              "      <td>16833.69640</td>\n",
              "      <td>0.199703</td>\n",
              "      <td>0.058882</td>\n",
              "    </tr>\n",
              "    <tr>\n",
              "      <th>4</th>\n",
              "      <td>Fiesta</td>\n",
              "      <td>2019</td>\n",
              "      <td>16500</td>\n",
              "      <td>Automatic</td>\n",
              "      <td>1482</td>\n",
              "      <td>Petrol</td>\n",
              "      <td>145.000000</td>\n",
              "      <td>48.7</td>\n",
              "      <td>1.0</td>\n",
              "      <td>20.704513</td>\n",
              "      <td>2385.04188</td>\n",
              "      <td>0.241328</td>\n",
              "      <td>0.008343</td>\n",
              "    </tr>\n",
              "    <tr>\n",
              "      <th>5</th>\n",
              "      <td>Fiesta</td>\n",
              "      <td>2015</td>\n",
              "      <td>10500</td>\n",
              "      <td>Manual</td>\n",
              "      <td>35432</td>\n",
              "      <td>Petrol</td>\n",
              "      <td>113.417932</td>\n",
              "      <td>47.9</td>\n",
              "      <td>1.6</td>\n",
              "      <td>20.364398</td>\n",
              "      <td>57022.13488</td>\n",
              "      <td>0.237364</td>\n",
              "      <td>0.199455</td>\n",
              "    </tr>\n",
              "    <tr>\n",
              "      <th>6</th>\n",
              "      <td>Puma</td>\n",
              "      <td>2019</td>\n",
              "      <td>22500</td>\n",
              "      <td>Manual</td>\n",
              "      <td>2029</td>\n",
              "      <td>Petrol</td>\n",
              "      <td>145.000000</td>\n",
              "      <td>50.4</td>\n",
              "      <td>1.0</td>\n",
              "      <td>21.427258</td>\n",
              "      <td>3265.35086</td>\n",
              "      <td>0.249752</td>\n",
              "      <td>0.011422</td>\n",
              "    </tr>\n",
              "  </tbody>\n",
              "</table>\n",
              "</div>"
            ],
            "text/plain": [
              "     model  year  price transmission  mileage fuelType         tax   mpg  \\\n",
              "0   Fiesta  2017  12000    Automatic    15944   Petrol  113.417932  57.7   \n",
              "1    Focus  2018  14000       Manual     9083   Petrol  150.000000  57.7   \n",
              "2    Focus  2017  13000       Manual    12456   Petrol  150.000000  57.7   \n",
              "3   Fiesta  2019  17500       Manual    10460   Petrol  145.000000  40.3   \n",
              "4   Fiesta  2019  16500    Automatic     1482   Petrol  145.000000  48.7   \n",
              "5   Fiesta  2015  10500       Manual    35432   Petrol  113.417932  47.9   \n",
              "6     Puma  2019  22500       Manual     2029   Petrol  145.000000  50.4   \n",
              "\n",
              "   engineSize       km/L           km  km/LNorm    kmNorm  \n",
              "0         1.0  24.530809  25659.31696  0.285927  0.089753  \n",
              "1         1.0  24.530809  14617.63522  0.285927  0.051130  \n",
              "2         1.0  24.530809  20045.93904  0.285927  0.070118  \n",
              "3         1.5  17.133303  16833.69640  0.199703  0.058882  \n",
              "4         1.0  20.704513   2385.04188  0.241328  0.008343  \n",
              "5         1.6  20.364398  57022.13488  0.237364  0.199455  \n",
              "6         1.0  21.427258   3265.35086  0.249752  0.011422  "
            ]
          },
          "execution_count": 77,
          "metadata": {},
          "output_type": "execute_result"
        }
      ],
      "source": [
        "df['km/LNorm'] = df['km/L']/df['km/L'].max()\n",
        "df['kmNorm'] = df['km']/df['km'].max()\n",
        "df.head(7)"
      ]
    },
    {
      "cell_type": "markdown",
      "metadata": {
        "id": "YaW5H7SrDHip"
      },
      "source": [
        "Agrupar datos de entrada"
      ]
    },
    {
      "cell_type": "code",
      "execution_count": 78,
      "metadata": {
        "colab": {
          "base_uri": "https://localhost:8080/",
          "height": 206
        },
        "id": "DKcrTc6mDJhA",
        "outputId": "f262c8d2-8d6b-4280-a521-e707cff9c614"
      },
      "outputs": [
        {
          "data": {
            "text/html": [
              "<div>\n",
              "<style scoped>\n",
              "    .dataframe tbody tr th:only-of-type {\n",
              "        vertical-align: middle;\n",
              "    }\n",
              "\n",
              "    .dataframe tbody tr th {\n",
              "        vertical-align: top;\n",
              "    }\n",
              "\n",
              "    .dataframe thead th {\n",
              "        text-align: right;\n",
              "    }\n",
              "</style>\n",
              "<table border=\"1\" class=\"dataframe\">\n",
              "  <thead>\n",
              "    <tr style=\"text-align: right;\">\n",
              "      <th></th>\n",
              "      <th>model</th>\n",
              "      <th>year</th>\n",
              "      <th>price</th>\n",
              "      <th>transmission</th>\n",
              "      <th>mileage</th>\n",
              "      <th>fuelType</th>\n",
              "      <th>tax</th>\n",
              "      <th>mpg</th>\n",
              "      <th>engineSize</th>\n",
              "      <th>km/L</th>\n",
              "      <th>km</th>\n",
              "      <th>km/LNorm</th>\n",
              "      <th>kmNorm</th>\n",
              "    </tr>\n",
              "  </thead>\n",
              "  <tbody>\n",
              "    <tr>\n",
              "      <th>0</th>\n",
              "      <td>Fiesta</td>\n",
              "      <td>2017</td>\n",
              "      <td>12000</td>\n",
              "      <td>Automatic</td>\n",
              "      <td>15944</td>\n",
              "      <td>Petrol</td>\n",
              "      <td>113.417932</td>\n",
              "      <td>57.7</td>\n",
              "      <td>1.0</td>\n",
              "      <td>24</td>\n",
              "      <td>25659.31696</td>\n",
              "      <td>0.285927</td>\n",
              "      <td>0.089753</td>\n",
              "    </tr>\n",
              "    <tr>\n",
              "      <th>1</th>\n",
              "      <td>Focus</td>\n",
              "      <td>2018</td>\n",
              "      <td>14000</td>\n",
              "      <td>Manual</td>\n",
              "      <td>9083</td>\n",
              "      <td>Petrol</td>\n",
              "      <td>150.000000</td>\n",
              "      <td>57.7</td>\n",
              "      <td>1.0</td>\n",
              "      <td>24</td>\n",
              "      <td>14617.63522</td>\n",
              "      <td>0.285927</td>\n",
              "      <td>0.051130</td>\n",
              "    </tr>\n",
              "    <tr>\n",
              "      <th>2</th>\n",
              "      <td>Focus</td>\n",
              "      <td>2017</td>\n",
              "      <td>13000</td>\n",
              "      <td>Manual</td>\n",
              "      <td>12456</td>\n",
              "      <td>Petrol</td>\n",
              "      <td>150.000000</td>\n",
              "      <td>57.7</td>\n",
              "      <td>1.0</td>\n",
              "      <td>24</td>\n",
              "      <td>20045.93904</td>\n",
              "      <td>0.285927</td>\n",
              "      <td>0.070118</td>\n",
              "    </tr>\n",
              "    <tr>\n",
              "      <th>3</th>\n",
              "      <td>Fiesta</td>\n",
              "      <td>2019</td>\n",
              "      <td>17500</td>\n",
              "      <td>Manual</td>\n",
              "      <td>10460</td>\n",
              "      <td>Petrol</td>\n",
              "      <td>145.000000</td>\n",
              "      <td>40.3</td>\n",
              "      <td>1.5</td>\n",
              "      <td>17</td>\n",
              "      <td>16833.69640</td>\n",
              "      <td>0.199703</td>\n",
              "      <td>0.058882</td>\n",
              "    </tr>\n",
              "    <tr>\n",
              "      <th>4</th>\n",
              "      <td>Fiesta</td>\n",
              "      <td>2019</td>\n",
              "      <td>16500</td>\n",
              "      <td>Automatic</td>\n",
              "      <td>1482</td>\n",
              "      <td>Petrol</td>\n",
              "      <td>145.000000</td>\n",
              "      <td>48.7</td>\n",
              "      <td>1.0</td>\n",
              "      <td>20</td>\n",
              "      <td>2385.04188</td>\n",
              "      <td>0.241328</td>\n",
              "      <td>0.008343</td>\n",
              "    </tr>\n",
              "  </tbody>\n",
              "</table>\n",
              "</div>"
            ],
            "text/plain": [
              "     model  year  price transmission  mileage fuelType         tax   mpg  \\\n",
              "0   Fiesta  2017  12000    Automatic    15944   Petrol  113.417932  57.7   \n",
              "1    Focus  2018  14000       Manual     9083   Petrol  150.000000  57.7   \n",
              "2    Focus  2017  13000       Manual    12456   Petrol  150.000000  57.7   \n",
              "3   Fiesta  2019  17500       Manual    10460   Petrol  145.000000  40.3   \n",
              "4   Fiesta  2019  16500    Automatic     1482   Petrol  145.000000  48.7   \n",
              "\n",
              "   engineSize  km/L           km  km/LNorm    kmNorm  \n",
              "0         1.0    24  25659.31696  0.285927  0.089753  \n",
              "1         1.0    24  14617.63522  0.285927  0.051130  \n",
              "2         1.0    24  20045.93904  0.285927  0.070118  \n",
              "3         1.5    17  16833.69640  0.199703  0.058882  \n",
              "4         1.0    20   2385.04188  0.241328  0.008343  "
            ]
          },
          "execution_count": 78,
          "metadata": {},
          "output_type": "execute_result"
        }
      ],
      "source": [
        "df[\"km/L\"]=df[\"km/L\"].astype(int, copy=True)\n",
        "df.head()"
      ]
    },
    {
      "cell_type": "markdown",
      "metadata": {
        "id": "c2EyV0r6FZIR"
      },
      "source": [
        "Graficar un histograma de `tax` para ver la forma de la distribución de los valores en la columna `tax`."
      ]
    },
    {
      "cell_type": "code",
      "execution_count": 79,
      "metadata": {
        "colab": {
          "base_uri": "https://localhost:8080/",
          "height": 312
        },
        "id": "8Y_4c4s3Fble",
        "outputId": "c93bb843-20bd-4b11-e783-19d7a3de7c7c"
      },
      "outputs": [
        {
          "data": {
            "text/plain": [
              "Text(0.5, 1.0, 'Contenedores km/L')"
            ]
          },
          "execution_count": 79,
          "metadata": {},
          "output_type": "execute_result"
        },
        {
          "data": {
            "image/png": "[encoded data removed]",
            "text/plain": [
              "<Figure size 432x288 with 1 Axes>"
            ]
          },
          "metadata": {
            "needs_background": "light"
          },
          "output_type": "display_data"
        }
      ],
      "source": [
        "%matplotlib inline\n",
        "import matplotlib as plt\n",
        "\n",
        "plt.pyplot.hist(df[\"km/L\"])\n",
        "\n",
        "#Configurar las etiquetas para los ejes x e y más un título\n",
        "plt.pyplot.xlabel(\"km/L\")\n",
        "plt.pyplot.ylabel(\"cantidad\")\n",
        "plt.pyplot.title(\"Contenedores km/L\")"
      ]
    },
    {
      "cell_type": "markdown",
      "metadata": {
        "id": "1PtOkhd-GE2P"
      },
      "source": [
        "Generar los contenedores usando la funcion de `numpy` (**numpy** `linspace(valor_inicial, valor_final, numero_divisiones)`)."
      ]
    },
    {
      "cell_type": "code",
      "execution_count": 80,
      "metadata": {
        "colab": {
          "base_uri": "https://localhost:8080/"
        },
        "id": "H4fnj2wyHqsO",
        "outputId": "8cd00189-a5e4-4cf0-f259-e52d5934ad06"
      },
      "outputs": [
        {
          "data": {
            "text/plain": [
              "array([ 8.        , 33.66666667, 59.33333333, 85.        ])"
            ]
          },
          "execution_count": 80,
          "metadata": {},
          "output_type": "execute_result"
        }
      ],
      "source": [
        "contenedores = np.linspace(min(df[\"km/L\"]), max(df[\"km/L\"]), 4)\n",
        "contenedores"
      ]
    },
    {
      "cell_type": "markdown",
      "metadata": {
        "id": "qm6nIkFHJKnS"
      },
      "source": [
        "Se crea una lista con el grupo de las variables, las cuales se dividiran en bajo, mediano y alto."
      ]
    },
    {
      "cell_type": "code",
      "execution_count": 81,
      "metadata": {
        "id": "jwMLj7GzJZfE"
      },
      "outputs": [],
      "source": [
        "gasto =['Bajo', 'Mediano', 'Alto']"
      ]
    },
    {
      "cell_type": "markdown",
      "metadata": {
        "id": "yt1E3_RrJiU3"
      },
      "source": [
        "Se utiliza la funcion `cut` para definir los valores pertenecientes a cada grupo "
      ]
    },
    {
      "cell_type": "code",
      "execution_count": 82,
      "metadata": {
        "colab": {
          "base_uri": "https://localhost:8080/",
          "height": 363
        },
        "id": "cfbMgLxPJ1rA",
        "outputId": "b2afb113-a1d4-4d76-b098-4a3770103def"
      },
      "outputs": [
        {
          "data": {
            "text/html": [
              "<div>\n",
              "<style scoped>\n",
              "    .dataframe tbody tr th:only-of-type {\n",
              "        vertical-align: middle;\n",
              "    }\n",
              "\n",
              "    .dataframe tbody tr th {\n",
              "        vertical-align: top;\n",
              "    }\n",
              "\n",
              "    .dataframe thead th {\n",
              "        text-align: right;\n",
              "    }\n",
              "</style>\n",
              "<table border=\"1\" class=\"dataframe\">\n",
              "  <thead>\n",
              "    <tr style=\"text-align: right;\">\n",
              "      <th></th>\n",
              "      <th>km/L</th>\n",
              "      <th>gastos-en-km/L</th>\n",
              "    </tr>\n",
              "  </thead>\n",
              "  <tbody>\n",
              "    <tr>\n",
              "      <th>17956</th>\n",
              "      <td>20</td>\n",
              "      <td>Bajo</td>\n",
              "    </tr>\n",
              "    <tr>\n",
              "      <th>17957</th>\n",
              "      <td>22</td>\n",
              "      <td>Bajo</td>\n",
              "    </tr>\n",
              "    <tr>\n",
              "      <th>17958</th>\n",
              "      <td>20</td>\n",
              "      <td>Bajo</td>\n",
              "    </tr>\n",
              "    <tr>\n",
              "      <th>17959</th>\n",
              "      <td>29</td>\n",
              "      <td>Bajo</td>\n",
              "    </tr>\n",
              "    <tr>\n",
              "      <th>17960</th>\n",
              "      <td>23</td>\n",
              "      <td>Bajo</td>\n",
              "    </tr>\n",
              "    <tr>\n",
              "      <th>17961</th>\n",
              "      <td>20</td>\n",
              "      <td>Bajo</td>\n",
              "    </tr>\n",
              "    <tr>\n",
              "      <th>17962</th>\n",
              "      <td>24</td>\n",
              "      <td>Bajo</td>\n",
              "    </tr>\n",
              "    <tr>\n",
              "      <th>17963</th>\n",
              "      <td>28</td>\n",
              "      <td>Bajo</td>\n",
              "    </tr>\n",
              "    <tr>\n",
              "      <th>17964</th>\n",
              "      <td>24</td>\n",
              "      <td>Bajo</td>\n",
              "    </tr>\n",
              "    <tr>\n",
              "      <th>17965</th>\n",
              "      <td>24</td>\n",
              "      <td>Bajo</td>\n",
              "    </tr>\n",
              "  </tbody>\n",
              "</table>\n",
              "</div>"
            ],
            "text/plain": [
              "       km/L gastos-en-km/L\n",
              "17956    20           Bajo\n",
              "17957    22           Bajo\n",
              "17958    20           Bajo\n",
              "17959    29           Bajo\n",
              "17960    23           Bajo\n",
              "17961    20           Bajo\n",
              "17962    24           Bajo\n",
              "17963    28           Bajo\n",
              "17964    24           Bajo\n",
              "17965    24           Bajo"
            ]
          },
          "execution_count": 82,
          "metadata": {},
          "output_type": "execute_result"
        }
      ],
      "source": [
        "df['gastos-en-km/L'] = pd.cut(df['km/L'], contenedores, labels=gasto, include_lowest=True )\n",
        "df[['km/L','gastos-en-km/L']].tail(10)"
      ]
    },
    {
      "cell_type": "markdown",
      "metadata": {
        "id": "OwOHuzulSibB"
      },
      "source": [
        "Para ver el numero de autos que hay en cada grupo de gastos en km/L, se usa el metodo `.values_counts()`"
      ]
    },
    {
      "cell_type": "code",
      "execution_count": 83,
      "metadata": {
        "colab": {
          "base_uri": "https://localhost:8080/"
        },
        "id": "iJh6fBTnS0bU",
        "outputId": "76beac66-a795-4768-8462-e550d8c8541f"
      },
      "outputs": [
        {
          "data": {
            "text/plain": [
              "Bajo       17770\n",
              "Mediano      191\n",
              "Alto           5\n",
              "Name: gastos-en-km/L, dtype: int64"
            ]
          },
          "execution_count": 83,
          "metadata": {},
          "output_type": "execute_result"
        }
      ],
      "source": [
        "df['gastos-en-km/L'].value_counts() "
      ]
    },
    {
      "cell_type": "markdown",
      "metadata": {
        "id": "T7AsLRVuTEAW"
      },
      "source": [
        "Gráfico de cada distribución. "
      ]
    },
    {
      "cell_type": "code",
      "execution_count": 84,
      "metadata": {
        "colab": {
          "base_uri": "https://localhost:8080/",
          "height": 312
        },
        "id": "-xAKbyLXTQjk",
        "outputId": "92c8b43a-2cd4-4075-c811-ae0859cd1669"
      },
      "outputs": [
        {
          "data": {
            "text/plain": [
              "Text(0.5, 1.0, 'Contenedores km/L')"
            ]
          },
          "execution_count": 84,
          "metadata": {},
          "output_type": "execute_result"
        },
        {
          "data": {
            "image/png": "[encoded data removed]",
            "text/plain": [
              "<Figure size 432x288 with 1 Axes>"
            ]
          },
          "metadata": {
            "needs_background": "light"
          },
          "output_type": "display_data"
        }
      ],
      "source": [
        "plt.pyplot.bar(gasto, df[\"gastos-en-km/L\"].value_counts())\n",
        "\n",
        "#Configurar las etiquetas para los ejes x e y más un título\n",
        "plt.pyplot.xlabel(\"km/L\")\n",
        "plt.pyplot.ylabel(\"cantidad\")\n",
        "plt.pyplot.title(\"Contenedores km/L\")"
      ]
    },
    {
      "cell_type": "code",
      "execution_count": 85,
      "metadata": {
        "colab": {
          "base_uri": "https://localhost:8080/",
          "height": 206
        },
        "id": "BiWRIk7OVb1k",
        "outputId": "f7b60cf6-d5bd-443e-8c7f-ca3cb4116413"
      },
      "outputs": [
        {
          "data": {
            "text/html": [
              "<div>\n",
              "<style scoped>\n",
              "    .dataframe tbody tr th:only-of-type {\n",
              "        vertical-align: middle;\n",
              "    }\n",
              "\n",
              "    .dataframe tbody tr th {\n",
              "        vertical-align: top;\n",
              "    }\n",
              "\n",
              "    .dataframe thead th {\n",
              "        text-align: right;\n",
              "    }\n",
              "</style>\n",
              "<table border=\"1\" class=\"dataframe\">\n",
              "  <thead>\n",
              "    <tr style=\"text-align: right;\">\n",
              "      <th></th>\n",
              "      <th>model</th>\n",
              "      <th>year</th>\n",
              "      <th>price</th>\n",
              "      <th>transmission</th>\n",
              "      <th>mileage</th>\n",
              "      <th>fuelType</th>\n",
              "      <th>tax</th>\n",
              "      <th>mpg</th>\n",
              "      <th>engineSize</th>\n",
              "      <th>km/L</th>\n",
              "      <th>km</th>\n",
              "      <th>km/LNorm</th>\n",
              "      <th>kmNorm</th>\n",
              "      <th>gastos-en-km/L</th>\n",
              "    </tr>\n",
              "  </thead>\n",
              "  <tbody>\n",
              "    <tr>\n",
              "      <th>0</th>\n",
              "      <td>Fiesta</td>\n",
              "      <td>2017</td>\n",
              "      <td>12000</td>\n",
              "      <td>Automatic</td>\n",
              "      <td>15944</td>\n",
              "      <td>Petrol</td>\n",
              "      <td>113.417932</td>\n",
              "      <td>57.7</td>\n",
              "      <td>1.0</td>\n",
              "      <td>24</td>\n",
              "      <td>25659.31696</td>\n",
              "      <td>0.285927</td>\n",
              "      <td>0.089753</td>\n",
              "      <td>Bajo</td>\n",
              "    </tr>\n",
              "    <tr>\n",
              "      <th>1</th>\n",
              "      <td>Focus</td>\n",
              "      <td>2018</td>\n",
              "      <td>14000</td>\n",
              "      <td>Manual</td>\n",
              "      <td>9083</td>\n",
              "      <td>Petrol</td>\n",
              "      <td>150.000000</td>\n",
              "      <td>57.7</td>\n",
              "      <td>1.0</td>\n",
              "      <td>24</td>\n",
              "      <td>14617.63522</td>\n",
              "      <td>0.285927</td>\n",
              "      <td>0.051130</td>\n",
              "      <td>Bajo</td>\n",
              "    </tr>\n",
              "    <tr>\n",
              "      <th>2</th>\n",
              "      <td>Focus</td>\n",
              "      <td>2017</td>\n",
              "      <td>13000</td>\n",
              "      <td>Manual</td>\n",
              "      <td>12456</td>\n",
              "      <td>Petrol</td>\n",
              "      <td>150.000000</td>\n",
              "      <td>57.7</td>\n",
              "      <td>1.0</td>\n",
              "      <td>24</td>\n",
              "      <td>20045.93904</td>\n",
              "      <td>0.285927</td>\n",
              "      <td>0.070118</td>\n",
              "      <td>Bajo</td>\n",
              "    </tr>\n",
              "    <tr>\n",
              "      <th>3</th>\n",
              "      <td>Fiesta</td>\n",
              "      <td>2019</td>\n",
              "      <td>17500</td>\n",
              "      <td>Manual</td>\n",
              "      <td>10460</td>\n",
              "      <td>Petrol</td>\n",
              "      <td>145.000000</td>\n",
              "      <td>40.3</td>\n",
              "      <td>1.5</td>\n",
              "      <td>17</td>\n",
              "      <td>16833.69640</td>\n",
              "      <td>0.199703</td>\n",
              "      <td>0.058882</td>\n",
              "      <td>Bajo</td>\n",
              "    </tr>\n",
              "    <tr>\n",
              "      <th>4</th>\n",
              "      <td>Fiesta</td>\n",
              "      <td>2019</td>\n",
              "      <td>16500</td>\n",
              "      <td>Automatic</td>\n",
              "      <td>1482</td>\n",
              "      <td>Petrol</td>\n",
              "      <td>145.000000</td>\n",
              "      <td>48.7</td>\n",
              "      <td>1.0</td>\n",
              "      <td>20</td>\n",
              "      <td>2385.04188</td>\n",
              "      <td>0.241328</td>\n",
              "      <td>0.008343</td>\n",
              "      <td>Bajo</td>\n",
              "    </tr>\n",
              "  </tbody>\n",
              "</table>\n",
              "</div>"
            ],
            "text/plain": [
              "     model  year  price transmission  mileage fuelType         tax   mpg  \\\n",
              "0   Fiesta  2017  12000    Automatic    15944   Petrol  113.417932  57.7   \n",
              "1    Focus  2018  14000       Manual     9083   Petrol  150.000000  57.7   \n",
              "2    Focus  2017  13000       Manual    12456   Petrol  150.000000  57.7   \n",
              "3   Fiesta  2019  17500       Manual    10460   Petrol  145.000000  40.3   \n",
              "4   Fiesta  2019  16500    Automatic     1482   Petrol  145.000000  48.7   \n",
              "\n",
              "   engineSize  km/L           km  km/LNorm    kmNorm gastos-en-km/L  \n",
              "0         1.0    24  25659.31696  0.285927  0.089753           Bajo  \n",
              "1         1.0    24  14617.63522  0.285927  0.051130           Bajo  \n",
              "2         1.0    24  20045.93904  0.285927  0.070118           Bajo  \n",
              "3         1.5    17  16833.69640  0.199703  0.058882           Bajo  \n",
              "4         1.0    20   2385.04188  0.241328  0.008343           Bajo  "
            ]
          },
          "execution_count": 85,
          "metadata": {},
          "output_type": "execute_result"
        }
      ],
      "source": [
        "df.head()"
      ]
    },
    {
      "cell_type": "markdown",
      "metadata": {
        "id": "_7bBSDGrU__U"
      },
      "source": [
        "Visualización de la distribución de cada contenedor."
      ]
    },
    {
      "cell_type": "code",
      "execution_count": 86,
      "metadata": {
        "colab": {
          "base_uri": "https://localhost:8080/",
          "height": 312
        },
        "id": "FtUAPzayVJ71",
        "outputId": "206c0dc3-7529-4871-897c-7ed2cd32a2c2"
      },
      "outputs": [
        {
          "data": {
            "text/plain": [
              "Text(0.5, 1.0, 'Contenedores km/L')"
            ]
          },
          "execution_count": 86,
          "metadata": {},
          "output_type": "execute_result"
        },
        {
          "data": {
            "image/png": "[encoded data removed]",
            "text/plain": [
              "<Figure size 432x288 with 1 Axes>"
            ]
          },
          "metadata": {
            "needs_background": "light"
          },
          "output_type": "display_data"
        }
      ],
      "source": [
        "plt.pyplot.hist(df[\"km/L\"], bins=3)\n",
        "\n",
        "#Configurar las etiquetas para los ejes x e y más un título\n",
        "plt.pyplot.xlabel(\"km/L\")\n",
        "plt.pyplot.ylabel(\"cantidad\")\n",
        "plt.pyplot.title(\"Contenedores km/L\")"
      ]
    },
    {
      "cell_type": "markdown",
      "metadata": {
        "id": "hJX4BkItUfir"
      },
      "source": [
        "### Generación de variables indicadoras"
      ]
    },
    {
      "cell_type": "markdown",
      "metadata": {},
      "source": [
        "Muestra las columnas del dataframe."
      ]
    },
    {
      "cell_type": "code",
      "execution_count": 87,
      "metadata": {
        "id": "VIEaDLzxUY-n"
      },
      "outputs": [
        {
          "data": {
            "text/plain": [
              "Index(['model', 'year', 'price', 'transmission', 'mileage', 'fuelType', 'tax',\n",
              "       'mpg', 'engineSize', 'km/L', 'km', 'km/LNorm', 'kmNorm',\n",
              "       'gastos-en-km/L'],\n",
              "      dtype='object')"
            ]
          },
          "execution_count": 87,
          "metadata": {},
          "output_type": "execute_result"
        }
      ],
      "source": [
        "df.columns"
      ]
    },
    {
      "cell_type": "markdown",
      "metadata": {},
      "source": [
        "Crea `variable_dummy_1` y le asigna los valores de la columna `transmission` mediante el metodo `getdummies` para poder separarla por tipo."
      ]
    },
    {
      "cell_type": "code",
      "execution_count": 88,
      "metadata": {
        "id": "-ZNDFUnLUZjy"
      },
      "outputs": [
        {
          "data": {
            "text/html": [
              "<div>\n",
              "<style scoped>\n",
              "    .dataframe tbody tr th:only-of-type {\n",
              "        vertical-align: middle;\n",
              "    }\n",
              "\n",
              "    .dataframe tbody tr th {\n",
              "        vertical-align: top;\n",
              "    }\n",
              "\n",
              "    .dataframe thead th {\n",
              "        text-align: right;\n",
              "    }\n",
              "</style>\n",
              "<table border=\"1\" class=\"dataframe\">\n",
              "  <thead>\n",
              "    <tr style=\"text-align: right;\">\n",
              "      <th></th>\n",
              "      <th>Automatic</th>\n",
              "      <th>Manual</th>\n",
              "      <th>Semi-Auto</th>\n",
              "    </tr>\n",
              "  </thead>\n",
              "  <tbody>\n",
              "    <tr>\n",
              "      <th>0</th>\n",
              "      <td>1</td>\n",
              "      <td>0</td>\n",
              "      <td>0</td>\n",
              "    </tr>\n",
              "    <tr>\n",
              "      <th>1</th>\n",
              "      <td>0</td>\n",
              "      <td>1</td>\n",
              "      <td>0</td>\n",
              "    </tr>\n",
              "    <tr>\n",
              "      <th>2</th>\n",
              "      <td>0</td>\n",
              "      <td>1</td>\n",
              "      <td>0</td>\n",
              "    </tr>\n",
              "    <tr>\n",
              "      <th>3</th>\n",
              "      <td>0</td>\n",
              "      <td>1</td>\n",
              "      <td>0</td>\n",
              "    </tr>\n",
              "    <tr>\n",
              "      <th>4</th>\n",
              "      <td>1</td>\n",
              "      <td>0</td>\n",
              "      <td>0</td>\n",
              "    </tr>\n",
              "  </tbody>\n",
              "</table>\n",
              "</div>"
            ],
            "text/plain": [
              "   Automatic  Manual  Semi-Auto\n",
              "0          1       0          0\n",
              "1          0       1          0\n",
              "2          0       1          0\n",
              "3          0       1          0\n",
              "4          1       0          0"
            ]
          },
          "execution_count": 88,
          "metadata": {},
          "output_type": "execute_result"
        }
      ],
      "source": [
        "variable_dummy_1 = pd.get_dummies(df[\"transmission\"])\n",
        "variable_dummy_1.head()"
      ]
    },
    {
      "cell_type": "markdown",
      "metadata": {},
      "source": [
        "Cambio de nombre de las columnas de las distintos tipos de transmisiones del dataframe."
      ]
    },
    {
      "cell_type": "code",
      "execution_count": 89,
      "metadata": {
        "id": "LC7s_9vhUb4H"
      },
      "outputs": [
        {
          "data": {
            "text/html": [
              "<div>\n",
              "<style scoped>\n",
              "    .dataframe tbody tr th:only-of-type {\n",
              "        vertical-align: middle;\n",
              "    }\n",
              "\n",
              "    .dataframe tbody tr th {\n",
              "        vertical-align: top;\n",
              "    }\n",
              "\n",
              "    .dataframe thead th {\n",
              "        text-align: right;\n",
              "    }\n",
              "</style>\n",
              "<table border=\"1\" class=\"dataframe\">\n",
              "  <thead>\n",
              "    <tr style=\"text-align: right;\">\n",
              "      <th></th>\n",
              "      <th>Transmision Automatica</th>\n",
              "      <th>Transmision Manual</th>\n",
              "      <th>Transmision Semi-Automatica</th>\n",
              "    </tr>\n",
              "  </thead>\n",
              "  <tbody>\n",
              "    <tr>\n",
              "      <th>0</th>\n",
              "      <td>1</td>\n",
              "      <td>0</td>\n",
              "      <td>0</td>\n",
              "    </tr>\n",
              "    <tr>\n",
              "      <th>1</th>\n",
              "      <td>0</td>\n",
              "      <td>1</td>\n",
              "      <td>0</td>\n",
              "    </tr>\n",
              "    <tr>\n",
              "      <th>2</th>\n",
              "      <td>0</td>\n",
              "      <td>1</td>\n",
              "      <td>0</td>\n",
              "    </tr>\n",
              "    <tr>\n",
              "      <th>3</th>\n",
              "      <td>0</td>\n",
              "      <td>1</td>\n",
              "      <td>0</td>\n",
              "    </tr>\n",
              "    <tr>\n",
              "      <th>4</th>\n",
              "      <td>1</td>\n",
              "      <td>0</td>\n",
              "      <td>0</td>\n",
              "    </tr>\n",
              "  </tbody>\n",
              "</table>\n",
              "</div>"
            ],
            "text/plain": [
              "   Transmision Automatica  Transmision Manual  Transmision Semi-Automatica\n",
              "0                       1                   0                            0\n",
              "1                       0                   1                            0\n",
              "2                       0                   1                            0\n",
              "3                       0                   1                            0\n",
              "4                       1                   0                            0"
            ]
          },
          "execution_count": 89,
          "metadata": {},
          "output_type": "execute_result"
        }
      ],
      "source": [
        "variable_dummy_1.rename(columns={'Automatic':'Transmision Automatica', 'Manual':'Transmision Manual', 'Semi-Auto':'Transmision Semi-Automatica'}, inplace=True)\n",
        "variable_dummy_1.head()"
      ]
    },
    {
      "cell_type": "markdown",
      "metadata": {},
      "source": [
        "Se elimina la columna de `transmission` del dataframe."
      ]
    },
    {
      "cell_type": "code",
      "execution_count": 90,
      "metadata": {
        "id": "mtME_oRKUdYS"
      },
      "outputs": [],
      "source": [
        "# combinar los dataframes \"df\" y \"variable_dummy_1\" \n",
        "df = pd.concat([df, variable_dummy_1], axis=1)\n",
        "\n",
        "# Elimina la columna original \"transmission\" del dataframe \"df\"\n",
        "df.drop(\"transmission\", axis = 1, inplace=True)"
      ]
    },
    {
      "cell_type": "markdown",
      "metadata": {},
      "source": [
        "Se muestra por pantalla los primeros 5 valores del dataframe, luego de eliminar la tabla y modificar los nombres de los valores que se cambiaron."
      ]
    },
    {
      "cell_type": "code",
      "execution_count": 91,
      "metadata": {
        "id": "SNEE9OV3UejR"
      },
      "outputs": [
        {
          "data": {
            "text/html": [
              "<div>\n",
              "<style scoped>\n",
              "    .dataframe tbody tr th:only-of-type {\n",
              "        vertical-align: middle;\n",
              "    }\n",
              "\n",
              "    .dataframe tbody tr th {\n",
              "        vertical-align: top;\n",
              "    }\n",
              "\n",
              "    .dataframe thead th {\n",
              "        text-align: right;\n",
              "    }\n",
              "</style>\n",
              "<table border=\"1\" class=\"dataframe\">\n",
              "  <thead>\n",
              "    <tr style=\"text-align: right;\">\n",
              "      <th></th>\n",
              "      <th>model</th>\n",
              "      <th>year</th>\n",
              "      <th>price</th>\n",
              "      <th>mileage</th>\n",
              "      <th>fuelType</th>\n",
              "      <th>tax</th>\n",
              "      <th>mpg</th>\n",
              "      <th>engineSize</th>\n",
              "      <th>km/L</th>\n",
              "      <th>km</th>\n",
              "      <th>km/LNorm</th>\n",
              "      <th>kmNorm</th>\n",
              "      <th>gastos-en-km/L</th>\n",
              "      <th>Transmision Automatica</th>\n",
              "      <th>Transmision Manual</th>\n",
              "      <th>Transmision Semi-Automatica</th>\n",
              "    </tr>\n",
              "  </thead>\n",
              "  <tbody>\n",
              "    <tr>\n",
              "      <th>0</th>\n",
              "      <td>Fiesta</td>\n",
              "      <td>2017</td>\n",
              "      <td>12000</td>\n",
              "      <td>15944</td>\n",
              "      <td>Petrol</td>\n",
              "      <td>113.417932</td>\n",
              "      <td>57.7</td>\n",
              "      <td>1.0</td>\n",
              "      <td>24</td>\n",
              "      <td>25659.31696</td>\n",
              "      <td>0.285927</td>\n",
              "      <td>0.089753</td>\n",
              "      <td>Bajo</td>\n",
              "      <td>1</td>\n",
              "      <td>0</td>\n",
              "      <td>0</td>\n",
              "    </tr>\n",
              "    <tr>\n",
              "      <th>1</th>\n",
              "      <td>Focus</td>\n",
              "      <td>2018</td>\n",
              "      <td>14000</td>\n",
              "      <td>9083</td>\n",
              "      <td>Petrol</td>\n",
              "      <td>150.000000</td>\n",
              "      <td>57.7</td>\n",
              "      <td>1.0</td>\n",
              "      <td>24</td>\n",
              "      <td>14617.63522</td>\n",
              "      <td>0.285927</td>\n",
              "      <td>0.051130</td>\n",
              "      <td>Bajo</td>\n",
              "      <td>0</td>\n",
              "      <td>1</td>\n",
              "      <td>0</td>\n",
              "    </tr>\n",
              "    <tr>\n",
              "      <th>2</th>\n",
              "      <td>Focus</td>\n",
              "      <td>2017</td>\n",
              "      <td>13000</td>\n",
              "      <td>12456</td>\n",
              "      <td>Petrol</td>\n",
              "      <td>150.000000</td>\n",
              "      <td>57.7</td>\n",
              "      <td>1.0</td>\n",
              "      <td>24</td>\n",
              "      <td>20045.93904</td>\n",
              "      <td>0.285927</td>\n",
              "      <td>0.070118</td>\n",
              "      <td>Bajo</td>\n",
              "      <td>0</td>\n",
              "      <td>1</td>\n",
              "      <td>0</td>\n",
              "    </tr>\n",
              "    <tr>\n",
              "      <th>3</th>\n",
              "      <td>Fiesta</td>\n",
              "      <td>2019</td>\n",
              "      <td>17500</td>\n",
              "      <td>10460</td>\n",
              "      <td>Petrol</td>\n",
              "      <td>145.000000</td>\n",
              "      <td>40.3</td>\n",
              "      <td>1.5</td>\n",
              "      <td>17</td>\n",
              "      <td>16833.69640</td>\n",
              "      <td>0.199703</td>\n",
              "      <td>0.058882</td>\n",
              "      <td>Bajo</td>\n",
              "      <td>0</td>\n",
              "      <td>1</td>\n",
              "      <td>0</td>\n",
              "    </tr>\n",
              "    <tr>\n",
              "      <th>4</th>\n",
              "      <td>Fiesta</td>\n",
              "      <td>2019</td>\n",
              "      <td>16500</td>\n",
              "      <td>1482</td>\n",
              "      <td>Petrol</td>\n",
              "      <td>145.000000</td>\n",
              "      <td>48.7</td>\n",
              "      <td>1.0</td>\n",
              "      <td>20</td>\n",
              "      <td>2385.04188</td>\n",
              "      <td>0.241328</td>\n",
              "      <td>0.008343</td>\n",
              "      <td>Bajo</td>\n",
              "      <td>1</td>\n",
              "      <td>0</td>\n",
              "      <td>0</td>\n",
              "    </tr>\n",
              "  </tbody>\n",
              "</table>\n",
              "</div>"
            ],
            "text/plain": [
              "     model  year  price  mileage fuelType         tax   mpg  engineSize  km/L  \\\n",
              "0   Fiesta  2017  12000    15944   Petrol  113.417932  57.7         1.0    24   \n",
              "1    Focus  2018  14000     9083   Petrol  150.000000  57.7         1.0    24   \n",
              "2    Focus  2017  13000    12456   Petrol  150.000000  57.7         1.0    24   \n",
              "3   Fiesta  2019  17500    10460   Petrol  145.000000  40.3         1.5    17   \n",
              "4   Fiesta  2019  16500     1482   Petrol  145.000000  48.7         1.0    20   \n",
              "\n",
              "            km  km/LNorm    kmNorm gastos-en-km/L  Transmision Automatica  \\\n",
              "0  25659.31696  0.285927  0.089753           Bajo                       1   \n",
              "1  14617.63522  0.285927  0.051130           Bajo                       0   \n",
              "2  20045.93904  0.285927  0.070118           Bajo                       0   \n",
              "3  16833.69640  0.199703  0.058882           Bajo                       0   \n",
              "4   2385.04188  0.241328  0.008343           Bajo                       1   \n",
              "\n",
              "   Transmision Manual  Transmision Semi-Automatica  \n",
              "0                   0                            0  \n",
              "1                   1                            0  \n",
              "2                   1                            0  \n",
              "3                   1                            0  \n",
              "4                   0                            0  "
            ]
          },
          "execution_count": 91,
          "metadata": {},
          "output_type": "execute_result"
        }
      ],
      "source": [
        "df.head()"
      ]
    }
  ],
  "metadata": {
    "colab": {
      "collapsed_sections": [],
      "name": "Tarea2 - Python.ipynb",
      "provenance": []
    },
    "interpreter": {
      "hash": "1866c50ceecc0740dafef64aeeec149fceb197abd6c79ccbdb5e1b1afaadbd76"
    },
    "kernelspec": {
      "display_name": "Python 3.9.7 ('base')",
      "language": "python",
      "name": "python3"
    },
    "language_info": {
      "codemirror_mode": {
        "name": "ipython",
        "version": 3
      },
      "file_extension": ".py",
      "mimetype": "text/x-python",
      "name": "python",
      "nbconvert_exporter": "python",
      "pygments_lexer": "ipython3",
      "version": "3.9.7"
    }
  },
  "nbformat": 4,
  "nbformat_minor": 0
}
